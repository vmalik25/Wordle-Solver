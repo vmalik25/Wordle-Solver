{
 "cells": [
  {
   "cell_type": "code",
   "execution_count": 2,
   "id": "2d82b88c",
   "metadata": {},
   "outputs": [
    {
     "name": "stdout",
     "output_type": "stream",
     "text": [
      "Good starter words are: slate, trace, crate\n",
      "\n",
      "word:crate\n",
      "g - green, y - yellow, w - wrong\n",
      "Feedback  wgwwg\n",
      "pride, bribe, erode, prove, grime, gripe, brine, prize, grove, prone, \n",
      "prose, prime, drove, grope, urine, bride, prude, probe, prune, broke, \n",
      "drone, froze, drive, brede, breme, brere, breve, brise, brize, brome, \n",
      "brose, brule, brume, drere, droke, drole, drome, drupe, druse, erose, \n",
      "frere, frise, frize, frore, grebe, grege, grese, greve, gride, grike, \n",
      "grise, grize, grone, grufe, grume, gryde, gryke, grype, irone, krewe, \n",
      "krone, orgue, prese, preve, prise, proke, prole, prore, pryse, urdee, \n",
      "wroke, \n",
      "word:pride\n",
      "g - green, y - yellow, w - wrong\n",
      "Feedback  pride\n",
      "pride, bribe, erode, prove, grime, gripe, brine, prize, grove, prone, \n",
      "prose, prime, drove, grope, urine, bride, prude, probe, prune, broke, \n",
      "drone, froze, drive, brede, breme, brere, breve, brise, brize, brome, \n",
      "brose, brule, brume, drere, droke, drole, drome, drupe, druse, erose, \n",
      "frere, frise, frize, frore, grebe, grege, grese, greve, gride, grike, \n",
      "grise, grize, grone, grufe, grume, gryde, gryke, grype, irone, krewe, \n",
      "krone, orgue, prese, preve, prise, proke, prole, prore, pryse, urdee, \n",
      "wroke, \n",
      "word:pride\n",
      "g - green, y - yellow, w - wrong\n",
      "Feedback  wgggg\n",
      "bride, gride, \n",
      "word:bride\n",
      "g - green, y - yellow, w - wrong\n",
      "Feedback  ggggg\n",
      "Well Done! Guess 4\n"
     ]
    }
   ],
   "source": [
    "guess = \"\"\n",
    "feedback = \"\"\n",
    "guess_list = []\n",
    "\n",
    "try:\n",
    "    with open('wordlist.txt') as f:\n",
    "        for line in f:\n",
    "            guess_list.append(line.strip())\n",
    "except FileNotFoundError:\n",
    "    print(\"file not found\")\n",
    "\n",
    "print(\"Good starter words are: slate, trace, crate\")\n",
    "\n",
    "for guesses in range(6):\n",
    "    guess = input(\"\\nword:\").lower()\n",
    "    print(\"g - green, y - yellow, w - wrong\")\n",
    "    feedback = input(\"Feedback  \").lower()\n",
    "    if feedback == \"ggggg\":\n",
    "        print(\"Well Done! Guess\",guesses+1)\n",
    "        break\n",
    "\n",
    "    temp_tuple = tuple(guess_list)\n",
    "    for word in temp_tuple: # You can't iterate over a list you want to change, so using a tuple.\n",
    "        for i in range(5):\n",
    "            if feedback[i] == \"w\" and guess[i] in word:\n",
    "                guess_list.remove(word)\n",
    "                break\n",
    "            elif feedback[i] == \"g\" and guess[i] != word[i]:\n",
    "                guess_list.remove(word)\n",
    "                break\n",
    "            elif feedback[i] == \"y\" and guess[i] not in word:\n",
    "                guess_list.remove(word)\n",
    "                break\n",
    "            elif feedback[i] == \"y\" and guess[i] == word[i]:\n",
    "                guess_list.remove(word)\n",
    "                break\n",
    "\n",
    "    counter = 0\n",
    "    for word in guess_list:\n",
    "        print(word,end=\", \")\n",
    "        counter+=1\n",
    "        if counter == 10:\n",
    "            print(\"\")\n",
    "            counter=0"
   ]
  }
 ],
 "metadata": {
  "kernelspec": {
   "display_name": "Python 3 (ipykernel)",
   "language": "python",
   "name": "python3"
  },
  "language_info": {
   "codemirror_mode": {
    "name": "ipython",
    "version": 3
   },
   "file_extension": ".py",
   "mimetype": "text/x-python",
   "name": "python",
   "nbconvert_exporter": "python",
   "pygments_lexer": "ipython3",
   "version": "3.9.7"
  }
 },
 "nbformat": 4,
 "nbformat_minor": 5
}
